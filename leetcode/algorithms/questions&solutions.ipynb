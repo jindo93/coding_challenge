{
 "cells": [
  {
   "cell_type": "markdown",
   "metadata": {},
   "source": [
    "Q: Find the median of two sorted lists"
   ]
  },
  {
   "cell_type": "code",
   "execution_count": null,
   "metadata": {},
   "outputs": [],
   "source": [
    "def median(A, B):\n",
    "    m, n = len(A), len(B)\n",
    "    if m > n:\n",
    "        A, B, m, n = B, A, n, m\n",
    "    if n == 0:\n",
    "        raise ValueError\n",
    "    imin, imax, half_len = 0, m, (m+n+1)//2\n",
    "    \n",
    "    while imin <= imax:\n",
    "        i = (imin + imax) // 2\n",
    "        j = half_len - i\n",
    "        if i < m and B[j-1] > A[i]:\n",
    "            # i is too small, must increase it\n",
    "            imin = i + 1\n",
    "        elif i > 0 and A[i-1] > B[j]:\n",
    "            # i is too big, must decrease it\n",
    "            imax = i - 1\n",
    "        else:\n",
    "            # i is perfect\n",
    "            if i == 0: max_of_left = B[j-1]\n",
    "            elif j == 0: max_of_left = A[i-1]\n",
    "            else: max_of_left = max(A[i-1], B[j-1])\n",
    "            \n",
    "            if (m + n) % 2 == 1:\n",
    "                return max_of_left\n",
    "            \n",
    "            if i == m: min_of_right = B[j]\n",
    "            elif j == n: min_of_right = A[i]\n",
    "            else: min_of_right = min(A[i], B[j])\n",
    "            \n",
    "            return (max_of_left + min_of_right) / 2.0"
   ]
  },
  {
   "cell_type": "code",
   "execution_count": null,
   "metadata": {},
   "outputs": [],
   "source": [
    "lst1 = [1,2,4,6]\n",
    "lst2 = [2,5,7,12,13]"
   ]
  },
  {
   "cell_type": "code",
   "execution_count": null,
   "metadata": {},
   "outputs": [],
   "source": [
    "print(median(lst1, lst2))"
   ]
  },
  {
   "cell_type": "code",
   "execution_count": null,
   "metadata": {},
   "outputs": [],
   "source": [
    "ex1 = [20,30,31,34,38]\n",
    "ex2 = [0,21,22,23,30]"
   ]
  },
  {
   "cell_type": "code",
   "execution_count": null,
   "metadata": {},
   "outputs": [],
   "source": [
    "print(median(ex1, ex2))"
   ]
  },
  {
   "cell_type": "markdown",
   "metadata": {},
   "source": [
    "Q: Given a binary string S (a string consisting only of '0' and '1's) and a positive integer N, return true if and only if for every integer X from 1 to N, the binary representation of X is a substring of S."
   ]
  },
  {
   "cell_type": "code",
   "execution_count": null,
   "metadata": {},
   "outputs": [],
   "source": [
    "def queryString(S: str, N: int) -> bool:\n",
    "        for i in range(1,N+1):\n",
    "            b = bin(i)[2:]\n",
    "            if b not in S:\n",
    "                return False\n",
    "        return True"
   ]
  },
  {
   "cell_type": "code",
   "execution_count": null,
   "metadata": {},
   "outputs": [],
   "source": [
    "print(queryString(\"0110\",4))\n",
    "print(queryString(\"0110\",3))"
   ]
  },
  {
   "cell_type": "markdown",
   "metadata": {},
   "source": [
    "Q: Given a number N, return a string consisting of \"0\"s and \"1\"s that represents its value in base -2 (negative two).\n",
    "\n",
    "The returned string must have no leading zeroes, unless the string is \"0\"."
   ]
  },
  {
   "cell_type": "markdown",
   "metadata": {},
   "source": [
    "Ex1.\n",
    "Input: 2\n",
    "Output: \"110\"\n",
    "Explantion: (-2) ^ 2 + (-2) ^ 1 = 2\n",
    "\n",
    "Ex2.\n",
    "Input: 3\n",
    "Output: \"111\"\n",
    "Explantion: (-2) ^ 2 + (-2) ^ 1 + (-2) ^ 0 = 3\n",
    "\n",
    "Ex3.\n",
    "Input: 4\n",
    "Output: \"100\"\n",
    "Explantion: (-2) ^ 2 = 4"
   ]
  },
  {
   "cell_type": "code",
   "execution_count": null,
   "metadata": {},
   "outputs": [],
   "source": [
    "def baseNeg2(N: int) -> str:\n",
    "        if N == 0:\n",
    "            return \"0\"\n",
    "        \n",
    "        converted = \"\"\n",
    "        while (N != 0):\n",
    "            remainder = N % (-2)\n",
    "            N = int(N//(-2))\n",
    "            \n",
    "            if remainder < 0:\n",
    "                remainder += ((-1)*(-2))\n",
    "                N += 1\n",
    "            converted = str(remainder) + converted\n",
    "        return converted"
   ]
  },
  {
   "cell_type": "code",
   "execution_count": null,
   "metadata": {},
   "outputs": [],
   "source": [
    "print(baseNeg2(13))"
   ]
  },
  {
   "cell_type": "code",
   "execution_count": null,
   "metadata": {},
   "outputs": [],
   "source": [
    "def toNegBase(n, negBase):\n",
    "    if n == 0:\n",
    "        return \"0\"\n",
    "    converted = \"\"\n",
    "    while n != 0:\n",
    "        remainder = n % (negBase)\n",
    "        n = int(n//negBase)\n",
    "        if (remainder < 0):\n",
    "            remainder += ((-1) * negBase)\n",
    "        converted = str(remainder) + converted\n",
    "    return converted"
   ]
  },
  {
   "cell_type": "code",
   "execution_count": null,
   "metadata": {},
   "outputs": [],
   "source": [
    "print(toNegBase(13, -5))"
   ]
  },
  {
   "cell_type": "markdown",
   "metadata": {},
   "source": [
    "Q: Given a 32-bit signed integer, reverse digits of an integer."
   ]
  },
  {
   "cell_type": "code",
   "execution_count": null,
   "metadata": {},
   "outputs": [],
   "source": [
    "def reverse(x: int) -> int:\n",
    "    s = str(x)\n",
    "    r = \"\"\n",
    "    for e in s:\n",
    "        r = e + r\n",
    "    if not r[-1].isdigit():\n",
    "        r = r[-1]+r[:len(r)-1]\n",
    "    n = int(r)\n",
    "    if 2**31-1<n or n<(-2)**31:\n",
    "        return 0\n",
    "    return n"
   ]
  },
  {
   "cell_type": "code",
   "execution_count": null,
   "metadata": {},
   "outputs": [],
   "source": [
    "print([i for i in range(2)])"
   ]
  },
  {
   "cell_type": "markdown",
   "metadata": {},
   "source": [
    "Q: Write a function to find the longest common prefix string amongst an array of strings.\n",
    "\n",
    "If there is no common prefix, return an empty string \"\"."
   ]
  },
  {
   "cell_type": "code",
   "execution_count": null,
   "metadata": {},
   "outputs": [],
   "source": [
    "def longestCommonPrefix(self, strs: [str]) -> str:\n",
    "        common_subs = ''\n",
    "        if len(strs) == 0:\n",
    "            return common_subs\n",
    "        subs = strs[0]\n",
    "        for s in strs[1:]:\n",
    "            index = min(len(subs), len(s))\n",
    "            for i in range(index):\n",
    "                if s[i] == subs[i]:\n",
    "                    common_subs += subs[i]\n",
    "                else:\n",
    "                    break\n",
    "            subs = common_subs\n",
    "            common_subs = ''\n",
    "        return subs"
   ]
  },
  {
   "cell_type": "markdown",
   "metadata": {},
   "source": [
    "Q: Given a string containing just the characters '(', ')', '{', '}', '[' and ']', determine if the input string is valid.\n",
    "\n",
    "An input string is valid if:\n",
    "\n",
    "Open brackets must be closed by the same type of brackets.\n",
    "Open brackets must be closed in the correct order.\n",
    "Note that an empty string is also considered valid."
   ]
  },
  {
   "cell_type": "code",
   "execution_count": null,
   "metadata": {},
   "outputs": [],
   "source": [
    "def isValid(s: str) -> bool:\n",
    "    if len(s) == 0:\n",
    "        return True\n",
    "    lst = []\n",
    "    for c in s:\n",
    "        print(lst)\n",
    "        #print(c)\n",
    "        if c in '([{':\n",
    "            lst.append(c)\n",
    "        else:\n",
    "            if len(lst) == 0: return False\n",
    "            if c == ')':\n",
    "                if lst.pop() == '(': pass\n",
    "            elif c == ']':                \n",
    "                if lst.pop() == '[': pass\n",
    "            elif c == '}':\n",
    "                if lst.pop() == '{': pass\n",
    "            else:\n",
    "                return False\n",
    "    print(lst)\n",
    "    if len(lst) != 0:\n",
    "        return False\n",
    "    return True"
   ]
  },
  {
   "cell_type": "code",
   "execution_count": null,
   "metadata": {},
   "outputs": [],
   "source": [
    "print(isValid('()[]{}'))"
   ]
  },
  {
   "cell_type": "markdown",
   "metadata": {},
   "source": []
  },
  {
   "cell_type": "code",
   "execution_count": null,
   "metadata": {},
   "outputs": [],
   "source": [
    "def mergeTwoLists(l1, l2):\n",
    "    if l1 == None:\n",
    "        return l2\n",
    "    if l2 == None:\n",
    "        return l1\n",
    "    if l1.val <= l2.val:\n",
    "        res = l1\n",
    "        l1 = l1.next\n",
    "    else:\n",
    "        res = l2\n",
    "        l2 = l2.next\n",
    "    temp = res\n",
    "    while l1 != None and l2 != None:\n",
    "        if l1.val <= l2.val:\n",
    "            temp.next = l1\n",
    "            l1 = l1.next\n",
    "        else:\n",
    "            temp.next = l2\n",
    "            l2 = l2.next\n",
    "        temp = temp.next\n",
    "    if l1 != None:\n",
    "        temp.next = l1\n",
    "    else:\n",
    "        temp.next = l2\n",
    "    return res"
   ]
  },
  {
   "cell_type": "markdown",
   "metadata": {},
   "source": [
    "Q: Given a sorted array nums, remove the duplicates in-place such that each element appear only once and return the new length.\n",
    "\n",
    "Do not allocate extra space for another array, you must do this by modifying the input array in-place with O(1) extra memory."
   ]
  },
  {
   "cell_type": "code",
   "execution_count": 21,
   "metadata": {},
   "outputs": [],
   "source": [
    "lst = [1,1,1,2,2,2,3,3,3,4,5,6,6,6]\n",
    "def removeDuplicates(nums:[int]) -> int:\n",
    "    if len(nums) == 0: return 0\n",
    "    i = 0\n",
    "    for j in range(1, len(nums)):\n",
    "        if nums[j] != nums[i]:\n",
    "            i += 1\n",
    "            nums[i] = nums[j]\n",
    "    return i+1"
   ]
  },
  {
   "cell_type": "code",
   "execution_count": 22,
   "metadata": {},
   "outputs": [
    {
     "name": "stdout",
     "output_type": "stream",
     "text": [
      "6\n",
      "[1, 2, 3, 4, 5, 6, 3, 3, 3, 4, 5, 6, 6, 6]\n"
     ]
    }
   ],
   "source": [
    "print(removeDuplicates(lst))\n",
    "print(lst)"
   ]
  },
  {
   "cell_type": "code",
   "execution_count": null,
   "metadata": {},
   "outputs": [],
   "source": []
  },
  {
   "cell_type": "code",
   "execution_count": null,
   "metadata": {},
   "outputs": [],
   "source": []
  },
  {
   "cell_type": "code",
   "execution_count": null,
   "metadata": {},
   "outputs": [],
   "source": []
  },
  {
   "cell_type": "code",
   "execution_count": null,
   "metadata": {},
   "outputs": [],
   "source": []
  },
  {
   "cell_type": "code",
   "execution_count": null,
   "metadata": {},
   "outputs": [],
   "source": []
  },
  {
   "cell_type": "code",
   "execution_count": null,
   "metadata": {},
   "outputs": [],
   "source": []
  },
  {
   "cell_type": "code",
   "execution_count": null,
   "metadata": {},
   "outputs": [],
   "source": []
  },
  {
   "cell_type": "code",
   "execution_count": null,
   "metadata": {},
   "outputs": [],
   "source": []
  },
  {
   "cell_type": "code",
   "execution_count": null,
   "metadata": {},
   "outputs": [],
   "source": []
  }
 ],
 "metadata": {
  "kernelspec": {
   "display_name": "Python 3",
   "language": "python",
   "name": "python3"
  },
  "language_info": {
   "codemirror_mode": {
    "name": "ipython",
    "version": 3
   },
   "file_extension": ".py",
   "mimetype": "text/x-python",
   "name": "python",
   "nbconvert_exporter": "python",
   "pygments_lexer": "ipython3",
   "version": "3.7.3"
  }
 },
 "nbformat": 4,
 "nbformat_minor": 2
}
